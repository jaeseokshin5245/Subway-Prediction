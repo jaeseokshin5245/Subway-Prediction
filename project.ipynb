{
 "cells": [
  {
   "cell_type": "code",
   "execution_count": 55,
   "metadata": {},
   "outputs": [],
   "source": [
    "# Import dataset\n",
    "import pandas as pd\n",
    "import os\n",
    "import math\n",
    "\n",
    "sheet_list = [\n",
    "    'Banseok', 'Jijock', 'Nonoun','Worldcup','Natcem', 'Guamn', 'Yoosung', 'Gapchun', 'Walpyeon', 'Galma', 'Govcom',\n",
    "    'Cityhall', 'Tanbang',  'Yongmun', 'Oryong', 'Westdae','Midoffice', 'Midroad',  'Daejeon',  'Daedong','Sinhyun', 'Phanam'\n",
    "]\n",
    "\n",
    "file_list = [\"geton.xlsx\", \"getoff.xlsx\", \"timetable.xlsx\"]\n",
    "\n",
    "On_data_list = []\n",
    "Off_data_list = []\n",
    "\n",
    "dir_path = os.path.dirname(os.path.abspath(\"project.ipynb\"))\n",
    "On_file_path = os.path.join(dir_path, file_list[0]) \n",
    "Off_file_path = os.path.join(dir_path, file_list[1])\n",
    "tt_path = os.path.join(dir_path, file_list[2])\n",
    "\n",
    "\n",
    "for i in range(len(sheet_list)):\n",
    "    df = pd.read_excel(On_file_path, sheet_name = sheet_list[i])\n",
    "    On_data_list.append(df)\n",
    "    \n",
    "\n",
    "for j in range(len(sheet_list)):\n",
    "    df = pd.read_excel(Off_file_path, sheet_name = sheet_list[j])\n",
    "    Off_data_list.append(df)\n",
    "\n",
    "df_wk_ac = pd.read_excel(tt_path, sheet_name = \"wk_ac\")\n",
    "df_wk_dc = pd.read_excel(tt_path, sheet_name = \"wk_dc\")\n"
   ]
  },
  {
   "cell_type": "code",
   "execution_count": 51,
   "metadata": {},
   "outputs": [
    {
     "name": "stdout",
     "output_type": "stream",
     "text": [
      "262\n",
      "416\n"
     ]
    }
   ],
   "source": [
    "# Import user requirement\n",
    "WKDAY = input(\"무슨 요일인가요?\")\n",
    "\n",
    "CLSTIME = int(input(\"몇 시 수업인가요?\"))\n",
    "\n",
    "# origin = input(\"출발역은 어디인가요?\")\n",
    "\n",
    "# desti = input(\"도착역은 어디인가요?\")\n",
    "\n",
    "wkday_list_Off = []\n",
    "\n",
    "wkday_list_On = []\n",
    "\n",
    "wkday_dict = {\"일요일\": 0,\"월요일\": 1,\"화요일\": 2,\"수요일\": 3,\"목요일\": 4,\"금요일\": 5,\"토요일\": 6}\n",
    "\n",
    "# 예시 목요일 9시 \n",
    "# 해당 요일에 해당하는 각 역별 승차 데이터 수집\n",
    "if wkday_dict[WKDAY] == 6:\n",
    "    for wk in range(0, 11):\n",
    "        wk = wk * 7 + wkday_dict[WKDAY]\n",
    "        row = On_data_list[1].iloc[wk]\n",
    "        wkday_list_On.append(row)\n",
    "        \n",
    "else:\n",
    "    for wk in range(0, 12):\n",
    "        wk = wk * 7 + wkday_dict[WKDAY]\n",
    "        row = On_data_list[1].iloc[wk]\n",
    "        wkday_list_On.append(row)\n",
    "\n",
    "\n",
    "# 해당 요일에 해당하는 각 역별 하차 데이터 수집\n",
    "if wkday_dict[WKDAY] == 6:\n",
    "    for wk_1 in range(0, 11):\n",
    "        wk_1 = wk_1 * 7 + wkday_dict[WKDAY]\n",
    "        row_1 = Off_data_list[1].iloc[wk_1]\n",
    "        wkday_list_Off.append(row_1)\n",
    "\n",
    "else:\n",
    "    for wk_1 in range(0, 12):\n",
    "        wk_1 = wk_1 * 7 + wkday_dict[WKDAY]\n",
    "        row_1 = Off_data_list[1].iloc[wk_1]\n",
    "        wkday_list_Off.append(row_1)\n",
    "\n",
    "sum_time_On = 0\n",
    "sum_time_Off = 0\n",
    "\n",
    "if wkday_dict[WKDAY] == 6:\n",
    "    for k in range(0, 11):\n",
    "        sum_time_On += wkday_list_On[k][CLSTIME]\n",
    "    print(sum_time_On // 11 )\n",
    "else:\n",
    "    for k in range(0, 12):\n",
    "        sum_time_On += wkday_list_On[k][CLSTIME]\n",
    "    print(sum_time_On // 12)\n",
    "        \n",
    "if wkday_dict[WKDAY] == 6:\n",
    "    for l in range(0, 11):\n",
    "        sum_time_Off += wkday_list_Off[l][CLSTIME]\n",
    "    print(sum_time_Off // 11 )\n",
    "else:\n",
    "    for l in range(0, 12):\n",
    "        sum_time_Off += wkday_list_Off[l][CLSTIME]\n",
    "    print(sum_time_Off // 12 )\n"
   ]
  },
  {
   "cell_type": "code",
   "execution_count": null,
   "metadata": {},
   "outputs": [],
   "source": [
    "난이도 1 : 코드 작성하기\n",
    "난이도 2 : 오류 코드 이해하기\n",
    "난이도 3 : 오류 코드 해결하기\n",
    "난이도 4 : 코드 실행 기다리기"
   ]
  },
  {
   "cell_type": "code",
   "execution_count": null,
   "metadata": {},
   "outputs": [],
   "source": []
  }
 ],
 "metadata": {
  "kernelspec": {
   "display_name": "Python 3",
   "language": "python",
   "name": "python3"
  },
  "language_info": {
   "codemirror_mode": {
    "name": "ipython",
    "version": 3
   },
   "file_extension": ".py",
   "mimetype": "text/x-python",
   "name": "python",
   "nbconvert_exporter": "python",
   "pygments_lexer": "ipython3",
   "version": "3.11.0"
  },
  "orig_nbformat": 4
 },
 "nbformat": 4,
 "nbformat_minor": 2
}
